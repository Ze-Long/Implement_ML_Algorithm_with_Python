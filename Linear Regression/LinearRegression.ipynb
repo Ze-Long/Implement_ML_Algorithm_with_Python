{
 "cells": [
  {
   "cell_type": "code",
   "execution_count": 2,
   "metadata": {
    "pycharm": {
     "is_executing": false
    }
   },
   "outputs": [],
   "source": [
    "import numpy as np\n",
    "import matplotlib.pyplot as plt"
   ]
  },
  {
   "cell_type": "markdown",
   "metadata": {},
   "source": [
    "#### Define linear regression formula and loss function"
   ]
  },
  {
   "cell_type": "code",
   "execution_count": 3,
   "metadata": {
    "pycharm": {
     "is_executing": false,
     "name": "#%%\n"
    }
   },
   "outputs": [],
   "source": [
    "def linear_loss(X, y, w, b):\n",
    "    num_train = X.shape[0]\n",
    "    num_feature = X.shape[1]\n",
    "    # Model Formula\n",
    "    y_hat = np.dot(X, w) + b\n",
    "    # Loss Function (MSE)\n",
    "    loss = np.sum((y_hat - y)**2)/num_train\n",
    "    # Partial Derivative of Parameters\n",
    "    dw = np.dot(X.T, (y_hat - y))/num_train\n",
    "    db = np.sum((y_hat - y))/num_train\n",
    "    return  y_hat, loss, dw, db"
   ]
  },
  {
   "cell_type": "markdown",
   "metadata": {},
   "source": [
    "#### Initialize the parameters"
   ]
  },
  {
   "cell_type": "code",
   "execution_count": 4,
   "metadata": {
    "pycharm": {
     "is_executing": false,
     "name": "#%%\n"
    }
   },
   "outputs": [],
   "source": [
    "def initialize_params(dims):\n",
    "    w = np.zeros((dims, 1))\n",
    "    b= 0\n",
    "    return w, b"
   ]
  },
  {
   "cell_type": "markdown",
   "metadata": {},
   "source": [
    "#### Define a function to optimize the parameters with gradient descent"
   ]
  },
  {
   "cell_type": "code",
   "execution_count": 5,
   "metadata": {
    "pycharm": {
     "is_executing": false,
     "name": "#%%\n"
    }
   },
   "outputs": [],
   "source": [
    "def linear_train(X, y, learning_rate, epochs):\n",
    "    w, b = initialize_params(X.shape[1])\n",
    "    loss_list = []\n",
    "    for i in range(1, epochs):\n",
    "        y_hat, loss, dw, db = linear_loss(X, y ,w, b)\n",
    "        loss_list.append(loss)\n",
    "        # gradient descent\n",
    "        w = w - learning_rate * dw\n",
    "        b = b - learning_rate * db\n",
    "        \n",
    "        if i % 10000 == 0:\n",
    "            print('epoch %d loss %f' % (i, loss))\n",
    "            \n",
    "        params = {\n",
    "            \"w\": w,\n",
    "            \"b\": b\n",
    "        }\n",
    "        \n",
    "        grads = {\n",
    "            \"dw\": dw,\n",
    "            \"db\": db\n",
    "        }\n",
    "        \n",
    "    return loss_list, loss, params, grads"
   ]
  },
  {
   "cell_type": "markdown",
   "metadata": {},
   "source": [
    "#### Use the Diabetes dataset from sklearn as an example for simple training"
   ]
  },
  {
   "cell_type": "code",
   "execution_count": 6,
   "metadata": {
    "pycharm": {
     "is_executing": false,
     "name": "#%%\n"
    }
   },
   "outputs": [],
   "source": [
    "from sklearn.datasets import load_diabetes\n",
    "from sklearn.utils import shuffle\n",
    "\n",
    "# load the data\n",
    "diabetes = load_diabetes()\n",
    "data = diabetes.data\n",
    "target = diabetes.target"
   ]
  },
  {
   "cell_type": "code",
   "execution_count": 7,
   "metadata": {
    "pycharm": {
     "is_executing": false,
     "name": "#%%\n"
    }
   },
   "outputs": [],
   "source": [
    "# train test split\n",
    "X, y = shuffle(data, target, random_state = 13)\n",
    "X = X.astype(np.float32)\n",
    "\n",
    "offset = int(X.shape[0] * 0.9)\n",
    "X_train, y_train = X[:offset], y[:offset]\n",
    "X_test, y_test = X[offset:], y[offset:]\n",
    "y_train = y_train.reshape((-1, 1))\n",
    "y_test = y_test.reshape((-1, 1))"
   ]
  },
  {
   "cell_type": "code",
   "execution_count": 8,
   "metadata": {
    "pycharm": {
     "is_executing": false,
     "name": "#%%\n"
    }
   },
   "outputs": [
    {
     "name": "stdout",
     "output_type": "stream",
     "text": [
      "epoch 10000 loss 5533.039734\n",
      "epoch 20000 loss 5217.582409\n",
      "epoch 30000 loss 4949.676466\n",
      "epoch 40000 loss 4721.504031\n",
      "epoch 50000 loss 4526.567333\n",
      "epoch 60000 loss 4359.463960\n",
      "epoch 70000 loss 4215.700505\n",
      "epoch 80000 loss 4091.538010\n",
      "epoch 90000 loss 3983.863771\n"
     ]
    }
   ],
   "source": [
    "loss_list, loss, params, grads = linear_train(X_train, y_train, 0.001, 100000)"
   ]
  },
  {
   "cell_type": "code",
   "execution_count": 9,
   "metadata": {
    "pycharm": {
     "is_executing": false,
     "name": "#%%\n"
    }
   },
   "outputs": [
    {
     "data": {
      "text/plain": [
       "array([[132.02545017],\n",
       "       [141.77423134],\n",
       "       [150.48352021],\n",
       "       [128.48666753],\n",
       "       [147.29312454]])"
      ]
     },
     "execution_count": 9,
     "metadata": {},
     "output_type": "execute_result"
    }
   ],
   "source": [
    "def predict(X, params):\n",
    "    w = params['w']\n",
    "    b = params['b']\n",
    "    \n",
    "    y_pred = np.dot(X, w) + b\n",
    "    return y_pred\n",
    "\n",
    "y_pred = predict(X_test, params)\n",
    "y_pred[:5]"
   ]
  },
  {
   "cell_type": "code",
   "execution_count": 10,
   "metadata": {
    "pycharm": {
     "is_executing": false,
     "name": "#%%\n"
    }
   },
   "outputs": [
    {
     "data": {
      "image/png": "[encoded data removed]",
      "text/plain": [
       "<Figure size 432x288 with 1 Axes>"
      ]
     },
     "metadata": {
      "needs_background": "light"
     },
     "output_type": "display_data"
    }
   ],
   "source": [
    "# visualize the result\n",
    "f = X_test.dot(params['w'])+ params['b']\n",
    "\n",
    "plt.scatter(range(X_test.shape[0]), y_test)\n",
    "plt.plot(f, color = 'darkorange')\n",
    "plt.xlabel('X')\n",
    "plt.ylabel('y')\n",
    "plt.show()"
   ]
  }
 ],
 "metadata": {
  "kernelspec": {
   "display_name": "Python 3",
   "language": "python",
   "name": "python3"
  },
  "language_info": {
   "codemirror_mode": {
    "name": "ipython",
    "version": 3
   },
   "file_extension": ".py",
   "mimetype": "text/x-python",
   "name": "python",
   "nbconvert_exporter": "python",
   "pygments_lexer": "ipython3",
   "version": "3.7.3"
  },
  "pycharm": {
   "stem_cell": {
    "cell_type": "raw",
    "metadata": {
     "collapsed": false
    },
    "source": []
   }
  },
  "toc": {
   "base_numbering": 1,
   "nav_menu": {},
   "number_sections": false,
   "sideBar": false,
   "skip_h1_title": false,
   "title_cell": "Table of Contents",
   "title_sidebar": "Contents",
   "toc_cell": false,
   "toc_position": {},
   "toc_section_display": false,
   "toc_window_display": false
  }
 },
 "nbformat": 4,
 "nbformat_minor": 1
}

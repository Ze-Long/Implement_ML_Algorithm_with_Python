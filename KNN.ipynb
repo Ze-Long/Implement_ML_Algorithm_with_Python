{
 "cells": [
  {
   "cell_type": "code",
   "execution_count": 13,
   "metadata": {
    "collapsed": true,
    "pycharm": {
     "is_executing": false
    }
   },
   "outputs": [],
   "source": [
    "import numpy as np\n",
    "from math import sqrt\n",
    "from collections import Counter"
   ]
  },
  {
   "cell_type": "code",
   "execution_count": 14,
   "outputs": [],
   "source": [
    "def KNN_classify(k,X_train,y_train,x):\n",
    "  \"\"\"\n",
    "    k:表示knn的中k的值\n",
    "    X_train: 训练集的features\n",
    "    y_train: 训练集的labels\n",
    "    x: 新的数据\n",
    "  \"\"\"\n",
    "  assert 1<=k<=X_train.shape[0],\"k must be valid\"\n",
    "  assert X_train.shape[0] == y_train.shape[0], \\\n",
    "  \"the size of X_train must equal to the size of y_train\"\n",
    "  assert X_train.shape[1] == x.shape[0], \\\n",
    "  \"the feature number of x must to be equal to X_train\"\n",
    "  # 计算新来的数据x与整个训练数据中每个样本数据的距离\n",
    "  distances = [sqrt(np.sum((x_train-x)**2)) for x_train in X_train] \n",
    "  nearest = np.argsort(distances) # 对距离排序并返回对应的索引\n",
    "\n",
    "  topK_y = [y_train[i] for i in nearest] # 返回最近的k个距离对应的分类\n",
    "  votes = Counter(topK_y) # 统计属于每个分类的样本数\n",
    "\n",
    "  return votes.most_common(1)[0][0] # 返回属于样本数最多的分类结果"
   ],
   "metadata": {
    "collapsed": false,
    "pycharm": {
     "name": "#%%\n",
     "is_executing": false
    }
   }
  },
  {
   "cell_type": "code",
   "execution_count": 15,
   "outputs": [
    {
     "data": {
      "text/plain": "<Figure size 640x480 with 1 Axes>"
     },
     "metadata": {},
     "output_type": "display_data"
    }
   ],
   "source": [
    "x = [[0,0],\n",
    "     [1,1],\n",
    "     [2,2],\n",
    "     [10,10],\n",
    "     [11,11],\n",
    "     [12,12]]\n",
    "y = [0,0,0,1,1,1]\n",
    "\n",
    "X_train = np.array(x)\n",
    "y_train = np.array(y)\n",
    "import matplotlib.pyplot as plt\n",
    "\n",
    "plt.scatter(X_train[:3,0],X_train[:3,1],color='red')\n",
    "plt.scatter(X_train[3:,0],X_train[3:,1],color = 'blue')\n",
    "plt.show()"
   ],
   "metadata": {
    "collapsed": false,
    "pycharm": {
     "name": "#%%\n",
     "is_executing": false
    }
   }
  },
  {
   "cell_type": "code",
   "execution_count": 16,
   "outputs": [
    {
     "data": {
      "text/plain": "1"
     },
     "metadata": {},
     "output_type": "execute_result",
     "execution_count": 16
    }
   ],
   "source": [
    "x = np.array([13,13])\n",
    "KNN_classify(2,X_train,y_train,x)\n",
    "\n",
    "\n"
   ],
   "metadata": {
    "collapsed": false,
    "pycharm": {
     "name": "#%%\n",
     "is_executing": false
    }
   }
  }
 ],
 "metadata": {
  "kernelspec": {
   "display_name": "Python 3",
   "language": "python",
   "name": "python3"
  },
  "language_info": {
   "codemirror_mode": {
    "name": "ipython",
    "version": 2
   },
   "file_extension": ".py",
   "mimetype": "text/x-python",
   "name": "python",
   "nbconvert_exporter": "python",
   "pygments_lexer": "ipython2",
   "version": "2.7.6"
  },
  "pycharm": {
   "stem_cell": {
    "cell_type": "raw",
    "source": [],
    "metadata": {
     "collapsed": false
    }
   }
  }
 },
 "nbformat": 4,
 "nbformat_minor": 0
}